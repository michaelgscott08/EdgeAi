{
  "nbformat": 4,
  "nbformat_minor": 0,
  "metadata": {
    "colab": {
      "name": "Copy of Lab Exercise I_Solutions.ipynb",
      "provenance": []
    },
    "kernelspec": {
      "name": "python3",
      "display_name": "Python 3"
    },
    "language_info": {
      "name": "python"
    }
  },
  "cells": [
    {
      "cell_type": "markdown",
      "metadata": {
        "id": "-QeBR0j_xDH9"
      },
      "source": [
        "Question 1:\n",
        "List: List is a non-homogeneous data structure which stores the elements in single row and multiple rows and *columns*"
      ]
    },
    {
      "cell_type": "code",
      "metadata": {
        "colab": {
          "base_uri": "https://localhost:8080/"
        },
        "id": "3J-flu1ewl4B",
        "outputId": "a1078881-31db-4d2b-e7d0-41cfaf2720a6"
      },
      "source": [
        "List = [(1,2,\"b\",\"a\"), (1,2,3,4)]\n",
        "print(List)"
      ],
      "execution_count": null,
      "outputs": [
        {
          "output_type": "stream",
          "text": [
            "[(1, 2, 'b', 'a'), (1, 2, 3, 4)]\n"
          ],
          "name": "stdout"
        }
      ]
    },
    {
      "cell_type": "markdown",
      "metadata": {
        "id": "09pCukoKyD1S"
      },
      "source": [
        "Tuple: Tuple  is immutable & Ordered"
      ]
    },
    {
      "cell_type": "code",
      "metadata": {
        "colab": {
          "base_uri": "https://localhost:8080/"
        },
        "id": "_cCAXMPux8w8",
        "outputId": "81efee47-6003-4c29-e24c-dae9cad0a604"
      },
      "source": [
        "Tuple = (1,2,\"a\")\n",
        "print(\"Tuple\", Tuple)"
      ],
      "execution_count": null,
      "outputs": [
        {
          "output_type": "stream",
          "text": [
            "Tuple (1, 2, 'a')\n"
          ],
          "name": "stdout"
        }
      ]
    },
    {
      "cell_type": "markdown",
      "metadata": {
        "id": "GvKoYPXBzJNX"
      },
      "source": [
        "Dictionary: Dictionary is also a non-homogeneous data structure which stores key value pairs"
      ]
    },
    {
      "cell_type": "code",
      "metadata": {
        "colab": {
          "base_uri": "https://localhost:8080/"
        },
        "id": "3Ls35roMzTYE",
        "outputId": "39a89faf-ab52-4937-cab6-6d058ece3abf"
      },
      "source": [
        "D = {1: \"a\", 2: \"b\", 3:\"c\"}\n",
        "print(D)"
      ],
      "execution_count": null,
      "outputs": [
        {
          "output_type": "stream",
          "text": [
            "{1: 'a', 2: 'b', 3: 'c'}\n"
          ],
          "name": "stdout"
        }
      ]
    },
    {
      "cell_type": "markdown",
      "metadata": {
        "id": "Hc_NiRciz91C"
      },
      "source": [
        "Set: Set data structure is also non-homogeneous data structure but stores in single row. Doesn't allow duplicate elements"
      ]
    },
    {
      "cell_type": "code",
      "metadata": {
        "colab": {
          "base_uri": "https://localhost:8080/"
        },
        "id": "xvEXm2Xg0J-H",
        "outputId": "af12b8ee-a244-46c7-b345-1bf58de2b0f2"
      },
      "source": [
        "S = set()\n",
        "S.add(1)\n",
        "S.add(2)\n",
        "S.add(2)\n",
        "print(S)"
      ],
      "execution_count": null,
      "outputs": [
        {
          "output_type": "stream",
          "text": [
            "{1, 2}\n"
          ],
          "name": "stdout"
        }
      ]
    },
    {
      "cell_type": "markdown",
      "metadata": {
        "id": "xfHrOVy-5NyZ"
      },
      "source": [
        "Array: "
      ]
    },
    {
      "cell_type": "code",
      "metadata": {
        "colab": {
          "base_uri": "https://localhost:8080/"
        },
        "id": "R0CyS6Vp5Pyu",
        "outputId": "30a6c562-41e6-41c4-bcb1-9035809b79df"
      },
      "source": [
        "import array as arr\n",
        "Array1 = arr.array('i', [1,2,3,4])\n",
        "print(Array1)"
      ],
      "execution_count": null,
      "outputs": [
        {
          "output_type": "stream",
          "text": [
            "array('i', [1, 2, 3, 4])\n"
          ],
          "name": "stdout"
        }
      ]
    },
    {
      "cell_type": "markdown",
      "metadata": {
        "id": "pwLvR70i1_FA"
      },
      "source": [
        "Question 2: Create the students name, roll numbers, subjects in dictionary. "
      ]
    },
    {
      "cell_type": "code",
      "metadata": {
        "colab": {
          "base_uri": "https://localhost:8080/"
        },
        "id": "cBfReLvP2Eht",
        "outputId": "69b408ea-16cf-4709-9300-67f35bb49174"
      },
      "source": [
        "Dict1 = {'Name': 'John', 'Roll No.': 1, 'Subjects': 'Algebra'}\n",
        "print(Dict1)\n",
        "print(Dict1[\"Name\"])"
      ],
      "execution_count": null,
      "outputs": [
        {
          "output_type": "stream",
          "text": [
            "{'Name': 'John', 'Roll No.': 1, 'Subjects': 'Algebra'}\n",
            "John\n"
          ],
          "name": "stdout"
        }
      ]
    },
    {
      "cell_type": "markdown",
      "metadata": {
        "id": "NhhNT9td3BBa"
      },
      "source": [
        "Question 3: Create a list of strings & print the first latter of each string."
      ]
    },
    {
      "cell_type": "code",
      "metadata": {
        "colab": {
          "base_uri": "https://localhost:8080/"
        },
        "id": "k_4tNSBH3UED",
        "outputId": "9c85a838-7fb2-4e6c-9e6c-91bb90fa8623"
      },
      "source": [
        "string = [\"india\", \"China\", \"USA\", \"UK\"]\n",
        "first = ([country[0] for country in string])\n",
        "print(first)"
      ],
      "execution_count": null,
      "outputs": [
        {
          "output_type": "stream",
          "text": [
            "['i', 'C', 'U', 'U']\n"
          ],
          "name": "stdout"
        }
      ]
    },
    {
      "cell_type": "markdown",
      "metadata": {
        "id": "BD-edtvY6uJO"
      },
      "source": [
        "Question 4: Use the python method- append(), extend(), index(), pop(), count(), remover(), reverse(), len(), update(), add()."
      ]
    },
    {
      "cell_type": "code",
      "metadata": {
        "id": "Xj9Y8qJc6zv-"
      },
      "source": [
        "#Do it yourself"
      ],
      "execution_count": null,
      "outputs": []
    },
    {
      "cell_type": "markdown",
      "metadata": {
        "id": "eKD6YDxV69p1"
      },
      "source": [
        "Question 5: Execute several mathematical operations in set such as Union, Intersection and Symmetric Difference. \n"
      ]
    },
    {
      "cell_type": "code",
      "metadata": {
        "colab": {
          "base_uri": "https://localhost:8080/"
        },
        "id": "DZWCccMD7hWI",
        "outputId": "2471ac3b-78a3-42ce-9f68-a0e512804481"
      },
      "source": [
        "s1 = {1,2,3,4,5,6,7,8}\n",
        "s2 = {1,4,7,'a', 'b'}\n",
        "s3 = {'a', 'c' , 'e', 5, 6}\n",
        "\n",
        "U = s1.union(s2)\n",
        "I = s1.intersection(s2)\n",
        "Diff = s2.difference(s3)\n",
        "print(U)\n",
        "print(I)\n",
        "print(Diff)"
      ],
      "execution_count": null,
      "outputs": [
        {
          "output_type": "stream",
          "text": [
            "{1, 2, 3, 4, 5, 6, 7, 8, 'b', 'a'}\n",
            "{1, 4, 7}\n",
            "{1, 'b', 4, 7}\n"
          ],
          "name": "stdout"
        }
      ]
    },
    {
      "cell_type": "markdown",
      "metadata": {
        "id": "VJlLTxsY7AEl"
      },
      "source": [
        "Question 6: Plot the functions F(x) = e^(−2x) , G(x) = x^2 ."
      ]
    },
    {
      "cell_type": "code",
      "metadata": {
        "colab": {
          "base_uri": "https://localhost:8080/",
          "height": 313
        },
        "id": "PUS-x-_m9kDh",
        "outputId": "e2f71a31-10f8-4ce0-aa98-c5b844ceb2a7"
      },
      "source": [
        "import numpy as np\n",
        "import matplotlib.pyplot as plt\n",
        "x = np.linspace(-5, 5, 1000)\n",
        "y = np.exp(-2*x)\n",
        "plt.plot(x,y,'r')\n",
        "plt.xlabel(\"X-axis\")\n",
        "plt.ylabel(\"Y-axis\")\n",
        "plt.title(\"plot for e^-2x\")\n",
        "plt.show"
      ],
      "execution_count": null,
      "outputs": [
        {
          "output_type": "execute_result",
          "data": {
            "text/plain": [
              "<function matplotlib.pyplot.show>"
            ]
          },
          "metadata": {
            "tags": []
          },
          "execution_count": 40
        },
        {
          "output_type": "display_data",
          "data": {
            "image/png": "[encoded data removed]",
            "text/plain": [
              "<Figure size 432x288 with 1 Axes>"
            ]
          },
          "metadata": {
            "tags": [],
            "needs_background": "light"
          }
        }
      ]
    },
    {
      "cell_type": "markdown",
      "metadata": {
        "id": "g9XdzrKI7BkP"
      },
      "source": [
        "Question 7: Generate the random variables of following distributions,  \n",
        "(a) Poisson  \n",
        "(b) Normal  \n",
        "(c) Exponential  \n",
        "(d) Uniform  \n",
        "find the mean, variance, median, mode and also display the histogram, scatter plot of generated random variable."
      ]
    },
    {
      "cell_type": "code",
      "metadata": {
        "colab": {
          "base_uri": "https://localhost:8080/",
          "height": 352
        },
        "id": "c502ReoWRjRx",
        "outputId": "b8b2f3a5-cdfe-409c-d808-1fd053d32c22"
      },
      "source": [
        "Z1=np.random.normal(0,1,10)\n",
        "z2=np.random.poisson(2, 10)\n",
        "print(Z1)\n",
        "print(z2)\n",
        "print(\"the scatter plot is the following:\")\n",
        "plt.scatter(Z1,z2) ## scatter plot\n",
        "\n"
      ],
      "execution_count": null,
      "outputs": [
        {
          "output_type": "stream",
          "text": [
            "[ 0.28746332  0.6650343   0.81367096 -0.78022825 -1.00430067  2.41561512\n",
            "  0.92212575  0.47188687  0.93008989 -0.7176145 ]\n",
            "[3 2 5 4 0 4 1 1 2 2]\n",
            "the scatter plot is the following:\n"
          ],
          "name": "stdout"
        },
        {
          "output_type": "execute_result",
          "data": {
            "text/plain": [
              "<matplotlib.collections.PathCollection at 0x7ff216c32650>"
            ]
          },
          "metadata": {
            "tags": []
          },
          "execution_count": 48
        },
        {
          "output_type": "display_data",
          "data": {
            "image/png": "[encoded data removed]",
            "text/plain": [
              "<Figure size 432x288 with 1 Axes>"
            ]
          },
          "metadata": {
            "tags": [],
            "needs_background": "light"
          }
        }
      ]
    },
    {
      "cell_type": "code",
      "metadata": {
        "colab": {
          "base_uri": "https://localhost:8080/",
          "height": 369
        },
        "id": "3qzHguX2SBKp",
        "outputId": "bccc9ff9-c055-488f-bbeb-c4624b6d048a"
      },
      "source": [
        "z3= np.random.exponential(3,10)\n",
        "print(\"the histogram is the following:\")\n",
        "plt.hist(Z1)"
      ],
      "execution_count": null,
      "outputs": [
        {
          "output_type": "stream",
          "text": [
            "the histogram is the following:\n"
          ],
          "name": "stdout"
        },
        {
          "output_type": "execute_result",
          "data": {
            "text/plain": [
              "(array([1., 1., 2., 2., 1., 0., 1., 0., 0., 2.]),\n",
              " array([-1.78660612, -1.37701011, -0.96741411, -0.5578181 , -0.14822209,\n",
              "         0.26137392,  0.67096993,  1.08056593,  1.49016194,  1.89975795,\n",
              "         2.30935396]),\n",
              " <a list of 10 Patch objects>)"
            ]
          },
          "metadata": {
            "tags": []
          },
          "execution_count": 42
        },
        {
          "output_type": "display_data",
          "data": {
            "image/png": "[encoded data removed]",
            "text/plain": [
              "<Figure size 432x288 with 1 Axes>"
            ]
          },
          "metadata": {
            "tags": [],
            "needs_background": "light"
          }
        }
      ]
    },
    {
      "cell_type": "markdown",
      "metadata": {
        "id": "DMt61qAz7Da1"
      },
      "source": [
        "Question 8: Plot a contour and 3D plot of the bi-variate Gaussian distribution."
      ]
    },
    {
      "cell_type": "code",
      "metadata": {
        "colab": {
          "base_uri": "https://localhost:8080/",
          "height": 248
        },
        "id": "dC1odHNP7Fc8",
        "outputId": "f3ac7eff-d607-427f-e93b-ea98f1f81d5c"
      },
      "source": [
        " # Create a surface plot (3-D mesh plot) and projected filled contour plot under it\n",
        "import numpy as np\n",
        "import matplotlib.pyplot as plt\n",
        "from matplotlib import cm\n",
        "from mpl_toolkits.mplot3d import Axes3D\n",
        "N = 60 #for D=2 dimensional variable X and Y for bi-variate gaussian distribution\n",
        "X = np.linspace(-3, 3, N)\n",
        "Y = np.linspace(-3, 4, N)\n",
        "X, Y = np.meshgrid(X, Y)\n",
        "mu = np.array([0., 1.]) # for mean vector and covarience matrix\n",
        "Sigma = np.array([[ 1. , -0.5], [-0.5, 1.5]])\n",
        "com = np.empty(X.shape + (2,)) # combine X and Y\n",
        "com[:, :, 0] = X\n",
        "com[:, :, 1] = Y\n",
        "def multivariate_gaussian(com, mu, Sigma): # the bi-variate Gaussian distribution .\n",
        "  n = mu.shape[0]\n",
        "  Sigma_det = np.linalg.det(Sigma)\n",
        "  Sigma_inv = np.linalg.inv(Sigma)\n",
        "  N = np.sqrt((2*np.pi)**n * Sigma_det)\n",
        "  fac = np.einsum('...k,kl,...l->...', com-mu, Sigma_inv, com-mu) #einsum call calculates (x-mu)T.Sigma-1.(x-mu) in a vectorized\n",
        "  return np.exp(-fac / 2) / N\n",
        "Z = multivariate_gaussian(com, mu, Sigma) #The distribution on the variables X, Y\n",
        "fig = plt.figure()\n",
        "ax = plt.axes(projection='3d')\n",
        "ax.plot_surface(X, Y, Z)\n",
        "ax.contourf(X, Y, Z, offset=-0.15)\n",
        "ax.set_zlim(-0.15,0.2) #Adjust the limits\n",
        "plt.show()"
      ],
      "execution_count": null,
      "outputs": [
        {
          "output_type": "display_data",
          "data": {
            "image/png": "[encoded data removed]",
            "text/plain": [
              "<Figure size 432x288 with 1 Axes>"
            ]
          },
          "metadata": {
            "tags": [],
            "needs_background": "light"
          }
        }
      ]
    },
    {
      "cell_type": "code",
      "metadata": {
        "colab": {
          "base_uri": "https://localhost:8080/",
          "height": 269
        },
        "id": "lH_79UH7RuHK",
        "outputId": "2788dd40-07d7-4ca1-eb51-08f6001e0aa7"
      },
      "source": [
        " # Plot a contour\n",
        "import numpy as np\n",
        "from scipy.stats import multivariate_normal as mvn\n",
        "import matplotlib.pyplot as plt\n",
        "D = 2\n",
        "x = np.random.rand(D)\n",
        "mu = np.random.rand(D)\n",
        "A = np.random.rand(D,D)\n",
        "# random symmetric matrix\n",
        "cov = A.T.dot(A)\n",
        "# Generate grid points\n",
        "x, y = np.meshgrid(np.linspace(-3,5,1000),np.linspace(-3,5,1000))\n",
        "xy = np.column_stack([x.flat, y.flat])\n",
        "# density values at the grid points\n",
        "Z = mvn.pdf(xy, mu, cov).reshape(x.shape)\n",
        "# arbitrary contour levels\n",
        "contour_level = [.01, .02, .03, .04, .05]\n",
        "fig = plt.contour(x, y, Z, levels = contour_level)"
      ],
      "execution_count": null,
      "outputs": [
        {
          "output_type": "display_data",
          "data": {
            "image/png": "[encoded data removed]",
            "text/plain": [
              "<Figure size 432x288 with 1 Axes>"
            ]
          },
          "metadata": {
            "tags": [],
            "needs_background": "light"
          }
        }
      ]
    }
  ]
}